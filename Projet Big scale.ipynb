{
 "cells": [
  {
   "cell_type": "markdown",
   "metadata": {
    "collapsed": true
   },
   "source": [
    "# Projet Big Scale Analytics "
   ]
  },
  {
   "cell_type": "markdown",
   "metadata": {},
   "source": [
    "## Milestone 1"
   ]
  },
  {
   "cell_type": "markdown",
   "metadata": {},
   "source": [
    "### Mining Data "
   ]
  },
  {
   "cell_type": "code",
   "execution_count": 0,
   "metadata": {},
   "outputs": [],
   "source": []
  },
  {
   "cell_type": "markdown",
   "metadata": {},
   "source": [
    "## Exploration of the Data "
   ]
  },
  {
   "cell_type": "markdown",
   "metadata": {},
   "source": [
    "For the label encoding, we followed : \n",
    "https://www.service-public.fr/particuliers/vosdroits/F34739"
   ]
  },
  {
   "cell_type": "code",
   "execution_count": 186,
   "metadata": {},
   "outputs": [],
   "source": [
    "import pandas as pd \n",
    "import numpy as np\n",
    "import seaborn as sns\n",
    "from sklearn.preprocessing import LabelEncoder\n",
    "import matplotlib.pyplot as plt\n",
    "\n",
    "df = pd.read_csv (r'/Users/m/Downloads/Sam.csv')"
   ]
  },
  {
   "cell_type": "code",
   "execution_count": 187,
   "metadata": {},
   "outputs": [],
   "source": [
    "df[900:940]\n",
    "cols = ['Difficulty Annotator 1', 'Difficulty Annotator 2', 'Difficulty Annotator 3']\n",
    "# Encode labels of multiple columns at once\n",
    "#\n",
    "df[cols]= df[cols].apply(LabelEncoder().fit_transform)\n",
    "#\n",
    "# Print head"
   ]
  },
  {
   "cell_type": "markdown",
   "metadata": {},
   "source": [
    "### Label Encoding and mean of the evaluations :"
   ]
  },
  {
   "cell_type": "code",
   "execution_count": 192,
   "metadata": {},
   "outputs": [],
   "source": [
    "labelencoder = LabelEncoder()\n",
    "\n",
    "\n",
    "# Assigning numerical values and storing in another column\n",
    "df['Eval_1_num'] = labelencoder.fit_transform(df['Difficulty Annotator 1'])\n",
    "df['Eval_2_num'] = labelencoder.fit_transform(df['Difficulty Annotator 2'])\n",
    "df['Eval_3_num'] = labelencoder.fit_transform(df['Difficulty Annotator 3'])\n",
    "\n",
    "df[\"Eval_mean\"] = round((df['Eval_1_num'] + df['Eval_2_num'] + df['Eval_3_num'])/3)"
   ]
  },
  {
   "cell_type": "code",
   "execution_count": 193,
   "metadata": {},
   "outputs": [
    {
     "data": {
      "text/html": [
       "<div>\n",
       "<style scoped>\n",
       "    .dataframe tbody tr th:only-of-type {\n",
       "        vertical-align: middle;\n",
       "    }\n",
       "\n",
       "    .dataframe tbody tr th {\n",
       "        vertical-align: top;\n",
       "    }\n",
       "\n",
       "    .dataframe thead th {\n",
       "        text-align: right;\n",
       "    }\n",
       "</style>\n",
       "<table border=\"1\" class=\"dataframe\">\n",
       "  <thead>\n",
       "    <tr style=\"text-align: right;\">\n",
       "      <th></th>\n",
       "      <th>Text</th>\n",
       "      <th>Difficulty</th>\n",
       "      <th>Difficulty Annotator 1</th>\n",
       "      <th>Difficulty Annotator 2</th>\n",
       "      <th>Difficulty Annotator 3</th>\n",
       "      <th>Eval_1_num</th>\n",
       "      <th>Eval_2_num</th>\n",
       "      <th>Eval_3_num</th>\n",
       "      <th>Eval_mean</th>\n",
       "    </tr>\n",
       "  </thead>\n",
       "  <tbody>\n",
       "    <tr>\n",
       "      <th>931</th>\n",
       "      <td>La connexion permanente, notamment aux réseaux...</td>\n",
       "      <td>NaN</td>\n",
       "      <td>4</td>\n",
       "      <td>5</td>\n",
       "      <td>6</td>\n",
       "      <td>4</td>\n",
       "      <td>5</td>\n",
       "      <td>6</td>\n",
       "      <td>5.0</td>\n",
       "    </tr>\n",
       "  </tbody>\n",
       "</table>\n",
       "</div>"
      ],
      "text/plain": [
       "                                                  Text  Difficulty  \\\n",
       "931  La connexion permanente, notamment aux réseaux...         NaN   \n",
       "\n",
       "     Difficulty Annotator 1  Difficulty Annotator 2  Difficulty Annotator 3  \\\n",
       "931                       4                       5                       6   \n",
       "\n",
       "     Eval_1_num  Eval_2_num  Eval_3_num  Eval_mean  \n",
       "931           4           5           6        5.0  "
      ]
     },
     "execution_count": 193,
     "metadata": {},
     "output_type": "execute_result"
    }
   ],
   "source": [
    "\n",
    "df[931:932]"
   ]
  },
  {
   "cell_type": "code",
   "execution_count": 194,
   "metadata": {},
   "outputs": [
    {
     "name": "stderr",
     "output_type": "stream",
     "text": [
      "<ipython-input-194-ec9d9680aaaa>:3: SettingWithCopyWarning: \n",
      "A value is trying to be set on a copy of a slice from a DataFrame\n",
      "\n",
      "See the caveats in the documentation: https://pandas.pydata.org/pandas-docs/stable/user_guide/indexing.html#returning-a-view-versus-a-copy\n",
      "  df[\"Difficulty\"][i] = \"A1\"\n",
      "/Users/m/pythonProject5/lib/python3.9/site-packages/pandas/core/indexing.py:1637: SettingWithCopyWarning: \n",
      "A value is trying to be set on a copy of a slice from a DataFrame\n",
      "\n",
      "See the caveats in the documentation: https://pandas.pydata.org/pandas-docs/stable/user_guide/indexing.html#returning-a-view-versus-a-copy\n",
      "  self._setitem_single_block(indexer, value, name)\n",
      "<ipython-input-194-ec9d9680aaaa>:5: SettingWithCopyWarning: \n",
      "A value is trying to be set on a copy of a slice from a DataFrame\n",
      "\n",
      "See the caveats in the documentation: https://pandas.pydata.org/pandas-docs/stable/user_guide/indexing.html#returning-a-view-versus-a-copy\n",
      "  df[\"Difficulty\"][i] = \"A2\"\n",
      "<ipython-input-194-ec9d9680aaaa>:7: SettingWithCopyWarning: \n",
      "A value is trying to be set on a copy of a slice from a DataFrame\n",
      "\n",
      "See the caveats in the documentation: https://pandas.pydata.org/pandas-docs/stable/user_guide/indexing.html#returning-a-view-versus-a-copy\n",
      "  df[\"Difficulty\"][i] = \"B1\"\n",
      "<ipython-input-194-ec9d9680aaaa>:11: SettingWithCopyWarning: \n",
      "A value is trying to be set on a copy of a slice from a DataFrame\n",
      "\n",
      "See the caveats in the documentation: https://pandas.pydata.org/pandas-docs/stable/user_guide/indexing.html#returning-a-view-versus-a-copy\n",
      "  df[\"Difficulty\"][i] = \"C1\"\n",
      "<ipython-input-194-ec9d9680aaaa>:9: SettingWithCopyWarning: \n",
      "A value is trying to be set on a copy of a slice from a DataFrame\n",
      "\n",
      "See the caveats in the documentation: https://pandas.pydata.org/pandas-docs/stable/user_guide/indexing.html#returning-a-view-versus-a-copy\n",
      "  df[\"Difficulty\"][i] = \"B2\"\n",
      "<ipython-input-194-ec9d9680aaaa>:13: SettingWithCopyWarning: \n",
      "A value is trying to be set on a copy of a slice from a DataFrame\n",
      "\n",
      "See the caveats in the documentation: https://pandas.pydata.org/pandas-docs/stable/user_guide/indexing.html#returning-a-view-versus-a-copy\n",
      "  df[\"Difficulty\"][i] = \"C2\"\n"
     ]
    }
   ],
   "source": [
    "for i in range(len(df)):\n",
    "    if int(df[\"Eval_mean\"][i]) == 0:\n",
    "        df[\"Difficulty\"][i] = \"A1\"\n",
    "    if int(df[\"Eval_mean\"][i]) == 1:\n",
    "        df[\"Difficulty\"][i] = \"A2\"\n",
    "    if int(df[\"Eval_mean\"][i]) == 2:\n",
    "        df[\"Difficulty\"][i] = \"B1\"\n",
    "    if int(df[\"Eval_mean\"][i]) == 3:\n",
    "        df[\"Difficulty\"][i] = \"B2\"\n",
    "    if int(df[\"Eval_mean\"][i]) == 4:\n",
    "        df[\"Difficulty\"][i] = \"C1\"\n",
    "    if int(df[\"Eval_mean\"][i]) == 5:\n",
    "        df[\"Difficulty\"][i] = \"C2\""
   ]
  },
  {
   "cell_type": "markdown",
   "metadata": {},
   "source": [
    "## Some Graphs"
   ]
  },
  {
   "cell_type": "markdown",
   "metadata": {},
   "source": [
    "### Density "
   ]
  },
  {
   "cell_type": "code",
   "execution_count": 195,
   "metadata": {},
   "outputs": [],
   "source": [
    "df['word_count'] = df['Text'].apply(lambda x: len(str(x).split()))"
   ]
  },
  {
   "cell_type": "code",
   "execution_count": 196,
   "metadata": {},
   "outputs": [],
   "source": [
    "df['mean_word_length'] = df['Text'].apply(lambda x: np.mean([len(w) for w in str(x).split()]))"
   ]
  },
  {
   "cell_type": "code",
   "execution_count": 197,
   "metadata": {},
   "outputs": [
    {
     "data": {
      "text/plain": [
       "<AxesSubplot:xlabel='word_count', ylabel='Density'>"
      ]
     },
     "execution_count": 197,
     "metadata": {},
     "output_type": "execute_result"
    },
    {
     "data": {
      "image/png": "[encoded data removed]",
      "text/plain": [
       "<Figure size 432x288 with 1 Axes>"
      ]
     },
     "metadata": {
      "needs_background": "light"
     },
     "output_type": "display_data"
    }
   ],
   "source": [
    "# density plot with shade\n",
    "sns.kdeplot(df['word_count'], shade=True)\n",
    "#sns.plt.show()"
   ]
  },
  {
   "cell_type": "code",
   "execution_count": 198,
   "metadata": {},
   "outputs": [
    {
     "data": {
      "text/plain": [
       "<AxesSubplot:xlabel='mean_word_length', ylabel='Density'>"
      ]
     },
     "execution_count": 198,
     "metadata": {},
     "output_type": "execute_result"
    },
    {
     "data": {
      "image/png": "[encoded data removed]",
      "text/plain": [
       "<Figure size 432x288 with 1 Axes>"
      ]
     },
     "metadata": {
      "needs_background": "light"
     },
     "output_type": "display_data"
    }
   ],
   "source": [
    "# density plot with shade\n",
    "sns.kdeplot(df['mean_word_length'], shade=True)\n",
    "#sns.plt.show()"
   ]
  },
  {
   "cell_type": "code",
   "execution_count": 199,
   "metadata": {},
   "outputs": [
    {
     "name": "stdout",
     "output_type": "stream",
     "text": [
      "162\n"
     ]
    }
   ],
   "source": [
    "df[\"Difficulty\"].value_counts()\n",
    "print(df.Difficulty.isnull().sum())"
   ]
  },
  {
   "cell_type": "code",
   "execution_count": 200,
   "metadata": {
    "pycharm": {
     "is_executing": true
    }
   },
   "outputs": [
    {
     "data": {
      "image/png": "[encoded data removed]",
      "text/plain": [
       "<Figure size 720x432 with 1 Axes>"
      ]
     },
     "metadata": {},
     "output_type": "display_data"
    }
   ],
   "source": [
    "# Label Distribution: \n",
    "#Warning : Missing one label \n",
    "x = df.set_index([\"Difficulty\",\"Text\"]).count(level=\"Difficulty\")\n",
    "x = x[\"Difficulty Annotator 1\"]\n",
    "pie, ax = plt.subplots(figsize=[10,6])\n",
    "plt.pie(x, autopct=\"%.1f%%\", labels=x.index, pctdistance=0.5)\n",
    "plt.title(\"Difficulty density\", fontsize=14);\n",
    "\n",
    "plt.savefig('Distribution_Classes.png')"
   ]
  },
  {
   "cell_type": "markdown",
   "metadata": {},
   "source": [
    "### Type of sentences"
   ]
  },
  {
   "cell_type": "code",
   "execution_count": 156,
   "metadata": {
    "pycharm": {
     "is_executing": true
    }
   },
   "outputs": [],
   "source": [
    "# What kind of graphics can we add ? \n",
    "# Density inside a level difficulty ? \n",
    "# Interogative vs exclamative vs normal sentence ? \n",
    "def whoiswho(db, sign):\n",
    "    count = 0 \n",
    "    for i in db:\n",
    "        for j in i:\n",
    "            if j == str(sign):\n",
    "                count += 1\n",
    "    return count\n",
    "        "
   ]
  },
  {
   "cell_type": "code",
   "execution_count": 157,
   "metadata": {
    "pycharm": {
     "is_executing": true
    }
   },
   "outputs": [
    {
     "data": {
      "image/png": "[encoded data removed]",
      "text/plain": [
       "<Figure size 432x288 with 1 Axes>"
      ]
     },
     "metadata": {
      "needs_background": "light"
     },
     "output_type": "display_data"
    }
   ],
   "source": [
    "#Interogative sentences: \n",
    "x = whoiswho(df[\"Text\"],\"?\")\n",
    "#Exclamative sentences: \n",
    "y = whoiswho(df[\"Text\"],\"!\")\n",
    "Dot = len(df[\"Text\"]) -int(x)- int(y)\n",
    "\n",
    "\n",
    "df_graph = pd.DataFrame({'Sentence':['Sentence ?', 'Sentence !', 'Sentence .'], 'value':[x, y, Dot]})\n",
    "ax = df_graph.plot.bar(x='Sentence', y='value', rot=0)\n"
   ]
  },
  {
   "cell_type": "code",
   "execution_count": 25,
   "metadata": {
    "pycharm": {
     "is_executing": true
    }
   },
   "outputs": [
    {
     "data": {
      "image/png": "[encoded data removed]",
      "text/plain": [
       "<Figure size 432x288 with 1 Axes>"
      ]
     },
     "metadata": {
      "needs_background": "light"
     },
     "output_type": "display_data"
    }
   ],
   "source": [
    "x,y,z,a,b,c = df[df[\"Difficulty\"]== \"A1\"],df[df[\"Difficulty\"]== \"A2\"],df[df[\"Difficulty\"]== \"B1\"],df[df[\"Difficulty\"]== \"B2\"],df[df[\"Difficulty\"]== \"C1\"],df[df[\"Difficulty\"]== \"C2\"]\n",
    "\n",
    "df_graph = pd.DataFrame({'Ditribution of Sentence with ?':['A1', 'A2', 'B1',\"B2\",\"C1\",\"C2\"], 'value':[whoiswho(x[\"Text\"],\"?\"), whoiswho(y[\"Text\"],\"?\"), whoiswho(z[\"Text\"],\"?\"),whoiswho(a[\"Text\"],\"?\"),whoiswho(b[\"Text\"],\"?\"),whoiswho(c[\"Text\"],\"?\")]})\n",
    "ax = df_graph.plot.bar(x='Ditribution of Sentence with ?', y='value', rot=0)"
   ]
  },
  {
   "cell_type": "code",
   "execution_count": 26,
   "metadata": {
    "pycharm": {
     "is_executing": true
    }
   },
   "outputs": [
    {
     "data": {
      "image/png": "[encoded data removed]",
      "text/plain": [
       "<Figure size 432x288 with 1 Axes>"
      ]
     },
     "metadata": {
      "needs_background": "light"
     },
     "output_type": "display_data"
    }
   ],
   "source": [
    "x,y,z,a,b,c = df[df[\"Difficulty\"]== \"A1\"],df[df[\"Difficulty\"]== \"A2\"],df[df[\"Difficulty\"]== \"B1\"],df[df[\"Difficulty\"]== \"B2\"],df[df[\"Difficulty\"]== \"C1\"],df[df[\"Difficulty\"]== \"C2\"]\n",
    "\n",
    "df_graph = pd.DataFrame({'Ditribution of Sentence with !':['A1', 'A2', 'B1',\"B2\",\"C1\",\"C2\"], 'value':[whoiswho(x[\"Text\"],\"!\"), whoiswho(y[\"Text\"],\"!\"), whoiswho(z[\"Text\"],\"!\"),whoiswho(a[\"Text\"],\"!\"),whoiswho(b[\"Text\"],\"!\"),whoiswho(c[\"Text\"],\"!\")]})\n",
    "ax = df_graph.plot.bar(x='Ditribution of Sentence with !', y='value', rot=0)"
   ]
  },
  {
   "cell_type": "code",
   "execution_count": null,
   "metadata": {
    "pycharm": {
     "is_executing": true
    }
   },
   "outputs": [],
   "source": []
  },
  {
   "cell_type": "code",
   "execution_count": null,
   "metadata": {
    "pycharm": {
     "is_executing": true
    }
   },
   "outputs": [],
   "source": []
  }
 ],
 "metadata": {
  "kernelspec": {
   "display_name": "Python 3",
   "language": "python",
   "name": "python3"
  },
  "language_info": {
   "codemirror_mode": {
    "name": "ipython",
    "version": 3
   },
   "file_extension": ".py",
   "mimetype": "text/x-python",
   "name": "python",
   "nbconvert_exporter": "python",
   "pygments_lexer": "ipython3",
   "version": "3.9.0"
  }
 },
 "nbformat": 4,
 "nbformat_minor": 1
}